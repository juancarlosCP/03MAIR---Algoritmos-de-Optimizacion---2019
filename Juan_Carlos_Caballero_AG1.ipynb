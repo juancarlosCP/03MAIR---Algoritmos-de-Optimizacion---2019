{
  "nbformat": 4,
  "nbformat_minor": 0,
  "metadata": {
    "colab": {
      "name": "Juan Carlos Caballero-AG1.ipynb",
      "provenance": [],
      "include_colab_link": true
    },
    "kernelspec": {
      "name": "python3",
      "display_name": "Python 3"
    }
  },
  "cells": [
    {
      "cell_type": "markdown",
      "metadata": {
        "id": "view-in-github",
        "colab_type": "text"
      },
      "source": [
        "<a href=\"https://colab.research.google.com/github/juancarlosCP/03MAIR---Algoritmos-de-Optimizacion---2019/blob/master/Juan_Carlos_Caballero_AG1.ipynb\" target=\"_parent\"><img src=\"https://colab.research.google.com/assets/colab-badge.svg\" alt=\"Open In Colab\"/></a>"
      ]
    },
    {
      "cell_type": "markdown",
      "metadata": {
        "id": "qY_7jrJG2cad",
        "colab_type": "text"
      },
      "source": [
        "# AG1 Algoritmos de optimizacion\n",
        "Juan Carlos Caballero\n",
        "https://colab.research.google.com/drive/1_v7TXwo8p8PE_CH9sFN9K6LIjvINRdSX"
      ]
    },
    {
      "cell_type": "markdown",
      "metadata": {
        "id": "3JdzF2YodQLT",
        "colab_type": "text"
      },
      "source": [
        "### Problema: Torres de Hanoy"
      ]
    },
    {
      "cell_type": "code",
      "metadata": {
        "id": "Rsewhx5Q2c5U",
        "colab_type": "code",
        "outputId": "54cf6689-30c2-45af-a873-c694e2e0b2d9",
        "colab": {
          "base_uri": "https://localhost:8080/",
          "height": 272
        }
      },
      "source": [
        "def torres(N,desde,hasta):\n",
        "\n",
        "  if N==1:\n",
        "    print('lleva la ficha desde',desde, ' hasta', hasta)\n",
        "  else:\n",
        "    torres(N-1,desde,6-desde-hasta)\n",
        "    print('lleva la ficha desde',desde, ' hasta', hasta)\n",
        "    torres(N-1,6-desde-hasta,hasta)\n",
        "torres(4,1,3)"
      ],
      "execution_count": 0,
      "outputs": [
        {
          "output_type": "stream",
          "text": [
            "lleva la ficha desde 1  hasta 2\n",
            "lleva la ficha desde 1  hasta 3\n",
            "lleva la ficha desde 2  hasta 3\n",
            "lleva la ficha desde 1  hasta 2\n",
            "lleva la ficha desde 3  hasta 1\n",
            "lleva la ficha desde 3  hasta 2\n",
            "lleva la ficha desde 1  hasta 2\n",
            "lleva la ficha desde 1  hasta 3\n",
            "lleva la ficha desde 2  hasta 3\n",
            "lleva la ficha desde 2  hasta 1\n",
            "lleva la ficha desde 3  hasta 1\n",
            "lleva la ficha desde 2  hasta 3\n",
            "lleva la ficha desde 1  hasta 2\n",
            "lleva la ficha desde 1  hasta 3\n",
            "lleva la ficha desde 2  hasta 3\n"
          ],
          "name": "stdout"
        }
      ]
    },
    {
      "cell_type": "markdown",
      "metadata": {
        "id": "V8dyXOmyeI5L",
        "colab_type": "text"
      },
      "source": [
        "### Problema: Cambio de monedas\n",
        "\n",
        "### Buscar las monedas para completar la cantidad con el sistema [25, 10, 5, 1]\n",
        "\n",
        "- Definimos la función : cambio_monedas con dos parámetros: Cantidad a calcular y sistema monetario\n",
        "- Inicializamos la variable SOLUCION a cero con tantos valores como tipos de monedas. \n",
        "- Inicializamos la variable VALOR_ACUMULADO para contener el valor acumulado total \n",
        "- Recorremos todas las monedas en orden decreciente en valor (voracidad) \n",
        "- Calculamos el máximo de monedas posibles en cada iteración:\n",
        "monedas = int( (CANTIDAD-VALOR_ACUMULADO)/SISTEMA[i]) Actualizamos: SOLUCION y VALOR_ACUMULADO\n",
        "- Si llegamos a la cantidad devolvemos la solución:\n",
        "   if VALOR_ACUMULADO == CANTIDAD: return SOLUCION"
      ]
    },
    {
      "cell_type": "code",
      "metadata": {
        "id": "yyEGmEI6jYjX",
        "colab_type": "code",
        "outputId": "ad5a97cf-748b-4ded-b7a9-e2647204be93",
        "colab": {
          "base_uri": "https://localhost:8080/",
          "height": 34
        }
      },
      "source": [
        "sistemaMon=[25,10,5,1]\n",
        "print(sistemaMon[1])"
      ],
      "execution_count": 0,
      "outputs": [
        {
          "output_type": "stream",
          "text": [
            "10\n"
          ],
          "name": "stdout"
        }
      ]
    },
    {
      "cell_type": "code",
      "metadata": {
        "id": "wwS9GgwDe0Ye",
        "colab_type": "code",
        "outputId": "4838aaab-399a-4807-d7ca-8c5c3532f584",
        "colab": {
          "base_uri": "https://localhost:8080/",
          "height": 34
        }
      },
      "source": [
        "import pandas as pd\n",
        "\n",
        "def cambioMonedas (cantidad,sistema):\n",
        "  acumulado = 0\n",
        "  i=0\n",
        "  solucion = []\n",
        "  noSolucion = True\n",
        "\n",
        "  while noSolucion:\n",
        "    acumulado = acumulado + sistema[i]\n",
        "    if cantidad > acumulado:\n",
        "      solucion.append(sistema[i]) \n",
        "    elif cantidad < acumulado:              \n",
        "      acumulado = acumulado - sistema[i]\n",
        "      i+=1                                    #solo avanzamos si se pasa\n",
        "    elif cantidad == acumulado:\n",
        "      solucion.append(sistema[i]) \n",
        "      noSolucion = False\n",
        "  \n",
        "  return solucion\n",
        "\n",
        "importe=17\n",
        "sistemaMon=[25,10,5,1]\n",
        "print('El cambio en monedas es ' , cambioMonedas(importe,sistemaMon))"
      ],
      "execution_count": 0,
      "outputs": [
        {
          "output_type": "stream",
          "text": [
            "El cambio en monedas es  [10, 5, 1, 1]\n"
          ],
          "name": "stdout"
        }
      ]
    },
    {
      "cell_type": "markdown",
      "metadata": {
        "id": "8SzQW3Zwe03k",
        "colab_type": "text"
      },
      "source": [
        "\n",
        "### Problema: Problema de las 4 reinas\n",
        "### Solución : 4-tuplas (x1,x2,x3,x4) donde el valor de cada elemento es la posición de una reina en la columna i-esima.  \n",
        "- El árbol de expansión recorrerá todas las posibilidades.\n",
        "- Con este modelo, es posible determinar si una solución parcial (rama del árbol) es “prometedora”\n",
        "- No puede haber dos reinas en la misma columna. \n",
        "- Esta restricción se verifica por el modelo que hemos adoptado\n",
        "- Dos reinas estarán en la misma fila si hay dos valores iguales para una solución parcial.\n",
        " P.Ej: (1,2,*,*) representa las dos primeras reinas de la imagen (2a etapa)\n",
        "- Dos reinas estará en la misma diagonal si |xi -xj| = |i-j|\n"
      ]
    },
    {
      "cell_type": "code",
      "metadata": {
        "id": "VR66M4ixB89C",
        "colab_type": "code",
        "colab": {}
      },
      "source": [
        "# Comprueba si el vector  hasta ahora es prometedor\n",
        "\n",
        "def prometedor(solucion,etapa):\n",
        "\tfor i in range(etapa):\n",
        "\t\tif(solucion[i] == solucion[etapa]) or (abs(solucion[i]-solucion[etapa])==abs(i-etapa)):\n",
        "\t\t\treturn False\n",
        "\n",
        "\treturn True"
      ],
      "execution_count": 0,
      "outputs": []
    },
    {
      "cell_type": "code",
      "metadata": {
        "id": "Hy-9Jw7rB4SV",
        "colab_type": "code",
        "outputId": "c69cc201-09aa-44e8-a663-f6580fd17ab5",
        "colab": {
          "base_uri": "https://localhost:8080/",
          "height": 51
        }
      },
      "source": [
        "def reinas(solucion,etapa,n):\n",
        "\tif etapa>=n:                             \n",
        "\t\treturn False\n",
        "\tfinIteracion = False                            \n",
        "\t\n",
        "\twhile True:\n",
        "            if (solucion[etapa] < n):                        \n",
        "                solucion[etapa] = solucion[etapa] + 1        \n",
        "\n",
        "            if (prometedor(solucion,etapa)):                     \n",
        "\n",
        "                if etapa != n-1:                             \n",
        "                    finIteracion = reinas(solucion, etapa+1,n)\n",
        "                    if finIteracion==False:                         \n",
        "                        solucion[etapa+1] = 0\n",
        "                else:\n",
        "                    print (solucion)                           \n",
        "                    finIteracion = True\n",
        "            if (solucion[etapa]==n or finIteracion==True):          \n",
        "                break\n",
        "\treturn finIteracion\n",
        "#----------------------------------\n",
        "\n",
        "n = 4\n",
        "solucion = []\n",
        "for i in range(n):\n",
        "\tsolucion.append(0)\n",
        "etapa = 0\n",
        "reinas(solucion, etapa, n)\n"
      ],
      "execution_count": 0,
      "outputs": [
        {
          "output_type": "stream",
          "text": [
            "[2, 4, 1, 3]\n"
          ],
          "name": "stdout"
        },
        {
          "output_type": "execute_result",
          "data": {
            "text/plain": [
              "True"
            ]
          },
          "metadata": {
            "tags": []
          },
          "execution_count": 104
        }
      ]
    },
    {
      "cell_type": "markdown",
      "metadata": {
        "id": "fv_oMS3xhN-p",
        "colab_type": "text"
      },
      "source": [
        "### Problema: Encontrar los dos puntos más cercanos\n",
        "###Dado un conjunto de puntos se trata de encontrar los dos puntos más cercanos \n",
        "Guía para aprendizaje:\n",
        "\n",
        "- Suponer en 1D, o sea, una lista de números: [3403, 4537, 9089, 9746, 7259, \n",
        "- Primer intento: Fuerza bruta\n",
        "- Calcular la complejidad. ¿Se puede mejorar?\n",
        "- Segundo intento. Aplicar Divide y Vencerás\n",
        "- Calcular la complejidad. ¿Se puede mejorar?\n",
        "- Extender el algoritmo a 2D: [(1122, 6175), (135, 4076), (7296, 2741)... \n",
        "- Extender el algoritmo a 3D."
      ]
    },
    {
      "cell_type": "code",
      "metadata": {
        "id": "BAyuG9y25vjT",
        "colab_type": "code",
        "colab": {}
      },
      "source": [
        "import random\n",
        "LISTA_1D = [random.randrange(1,10000) for x in range(1000)]\n",
        "LISTA_2D = [(random.randrange(1,10000),random.randrange(1,10000)) \n",
        "                                      for x in range(1000)]"
      ],
      "execution_count": 0,
      "outputs": []
    },
    {
      "cell_type": "code",
      "metadata": {
        "id": "Mn1IQfFR7Y99",
        "colab_type": "code",
        "outputId": "1b7644f9-9fad-4df9-a0e8-e21c5de35ddb",
        "colab": {
          "base_uri": "https://localhost:8080/",
          "height": 71
        }
      },
      "source": [
        "#FUERZA BRUTA complejidad O(n^2)\n",
        "import random\n",
        "LISTA_prueba = [random.randrange(1,100000) for x in range(100)]\n",
        "\n",
        "def menor_distancia_bruta(l):\n",
        "  mejor_distancia = 99999999999\n",
        "  Num1=()\n",
        "  Num2=()\n",
        "\n",
        "  for i in range(len(l)):\n",
        "    for j in range(i+1,len(l)):\n",
        "      dis_ultima = abs(l[i]-l[j])\n",
        "\n",
        "      if dis_ultima < mejor_distancia:\n",
        "        Num1=l[i]\n",
        "        Num2=l[j]\n",
        "        mejor_distancia = dis_ultima\n",
        "  return [Num1,Num2]\n",
        "\n",
        "print(LISTA_prueba)\n",
        "menor_distancia_bruta(LISTA_prueba)"
      ],
      "execution_count": 0,
      "outputs": [
        {
          "output_type": "stream",
          "text": [
            "[42949, 92811, 61081, 54712, 10188, 40558, 13866, 50822, 14180, 6811, 71821, 67483, 76450, 93054, 72599, 16769, 93565, 40935, 64453, 36205, 61309, 44304, 19772, 41386, 69538, 25667, 81289, 58760, 18654, 22966, 84852, 24544, 75243, 64123, 85639, 56608, 67851, 78210, 27265, 45972, 15502, 9813, 12324, 330, 50113, 51884, 48936, 1007, 58734, 11377, 68297, 60689, 23770, 63564, 31091, 97028, 22456, 60546, 90407, 38245, 18940, 11054, 63154, 41478, 24953, 58103, 99947, 38953, 66639, 48277, 49066, 40778, 81060, 12240, 75622, 75536, 84312, 71491, 20104, 59664, 64069, 94177, 95064, 26831, 95451, 97322, 43168, 61031, 93730, 91685, 55672, 26446, 7540, 14423, 68469, 76824, 29457, 30081, 45174, 45709]\n"
          ],
          "name": "stdout"
        },
        {
          "output_type": "execute_result",
          "data": {
            "text/plain": [
              "[58760, 58734]"
            ]
          },
          "metadata": {
            "tags": []
          },
          "execution_count": 29
        }
      ]
    },
    {
      "cell_type": "code",
      "metadata": {
        "id": "2AhumBjtSe4Q",
        "colab_type": "code",
        "outputId": "51dba990-88c4-425f-e08d-0022731864b4",
        "colab": {
          "base_uri": "https://localhost:8080/",
          "height": 88
        }
      },
      "source": [
        "# Se puede mejorar la complejidad ordenando previamente la lista \n",
        "# obtenemos un coste de n en la ordenacion al evitar un bucle anidado\n",
        "# y un coste final de n + n/2 que al final consiste en un coste de O(n)\n",
        "\n",
        "def menor_distancia_ordenado(l):\n",
        "  mejor_distancia = 99999999999\n",
        "  Num1=()\n",
        "  Num2=()\n",
        "\n",
        "  for i in range(len(l)-1):\n",
        "      dis_ultima = abs(l[i]-l[i+1])\n",
        "\n",
        "      if dis_ultima < mejor_distancia:\n",
        "        Num1=l[i]\n",
        "        Num2=l[i+1]\n",
        "        mejor_distancia = dis_ultima\n",
        "  return [Num1,Num2]\n",
        "\n",
        "print(LISTA_prueba)\n",
        "LISTA_prueba.sort()\n",
        "print('ordenada', LISTA_prueba)\n",
        "\n",
        "menor_distancia_ordenado(LISTA_prueba)"
      ],
      "execution_count": 0,
      "outputs": [
        {
          "output_type": "stream",
          "text": [
            "[42949, 92811, 61081, 54712, 10188, 40558, 13866, 50822, 14180, 6811, 71821, 67483, 76450, 93054, 72599, 16769, 93565, 40935, 64453, 36205, 61309, 44304, 19772, 41386, 69538, 25667, 81289, 58760, 18654, 22966, 84852, 24544, 75243, 64123, 85639, 56608, 67851, 78210, 27265, 45972, 15502, 9813, 12324, 330, 50113, 51884, 48936, 1007, 58734, 11377, 68297, 60689, 23770, 63564, 31091, 97028, 22456, 60546, 90407, 38245, 18940, 11054, 63154, 41478, 24953, 58103, 99947, 38953, 66639, 48277, 49066, 40778, 81060, 12240, 75622, 75536, 84312, 71491, 20104, 59664, 64069, 94177, 95064, 26831, 95451, 97322, 43168, 61031, 93730, 91685, 55672, 26446, 7540, 14423, 68469, 76824, 29457, 30081, 45174, 45709]\n",
            "ordenada [330, 1007, 6811, 7540, 9813, 10188, 11054, 11377, 12240, 12324, 13866, 14180, 14423, 15502, 16769, 18654, 18940, 19772, 20104, 22456, 22966, 23770, 24544, 24953, 25667, 26446, 26831, 27265, 29457, 30081, 31091, 36205, 38245, 38953, 40558, 40778, 40935, 41386, 41478, 42949, 43168, 44304, 45174, 45709, 45972, 48277, 48936, 49066, 50113, 50822, 51884, 54712, 55672, 56608, 58103, 58734, 58760, 59664, 60546, 60689, 61031, 61081, 61309, 63154, 63564, 64069, 64123, 64453, 66639, 67483, 67851, 68297, 68469, 69538, 71491, 71821, 72599, 75243, 75536, 75622, 76450, 76824, 78210, 81060, 81289, 84312, 84852, 85639, 90407, 91685, 92811, 93054, 93565, 93730, 94177, 95064, 95451, 97028, 97322, 99947]\n"
          ],
          "name": "stdout"
        },
        {
          "output_type": "execute_result",
          "data": {
            "text/plain": [
              "[58734, 58760]"
            ]
          },
          "metadata": {
            "tags": []
          },
          "execution_count": 30
        }
      ]
    }
  ]
}