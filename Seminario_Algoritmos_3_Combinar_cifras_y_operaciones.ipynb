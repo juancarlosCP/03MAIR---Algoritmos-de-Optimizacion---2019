{
  "nbformat": 4,
  "nbformat_minor": 0,
  "metadata": {
    "colab": {
      "name": "Seminario_Algoritmos-3. Combinar cifras y operaciones.ipynb",
      "provenance": [],
      "collapsed_sections": [],
      "include_colab_link": true
    },
    "kernelspec": {
      "name": "python3",
      "display_name": "Python 3"
    }
  },
  "cells": [
    {
      "cell_type": "markdown",
      "metadata": {
        "id": "view-in-github",
        "colab_type": "text"
      },
      "source": [
        "<a href=\"https://colab.research.google.com/github/juancarlosCP/03MAIR---Algoritmos-de-Optimizacion---2019/blob/master/Seminario_Algoritmos_3_Combinar_cifras_y_operaciones.ipynb\" target=\"_parent\"><img src=\"https://colab.research.google.com/assets/colab-badge.svg\" alt=\"Open In Colab\"/></a>"
      ]
    },
    {
      "cell_type": "markdown",
      "metadata": {
        "id": "hVbXYX-RfPWh",
        "colab_type": "text"
      },
      "source": [
        "# Algoritmos de optimización - Seminario<br>\n",
        "Nombre y Apellidos:  Juan Carlos Caballero Padrino <br>\n",
        "Url: https://colab.research.google.com/drive/1bdOnlAFAz2g34FENjkw9cOkPfGptT0dy<br>\n",
        "Problema:\n",
        "\n",
        ">3. Combinar cifras y operaciones\n",
        "\n",
        "####3. Combinar cifras y operaciones\n",
        "\n",
        "\n",
        "  - El problema consiste en analizar el siguiente problema y diseñar un algoritmo que lo resuelva.\n",
        "  - Disponemos de las 9 cifras del 1 al 9 (excluimos el cero) y de los 4 signos básicos de las\n",
        "operaciones fundamentales: suma(+), resta(-), multiplicación(*) y división(/)\n",
        "  - Debemos combinarlos alternativamente sin repetir ninguno de ellos para obtener una cantidad dada. Un ejemplo sería para obtener el 4:\n",
        "4+2-6/3*1 = 4\n",
        "\n",
        "- ¿Qué valor máximo y mínimo se pueden obtener según las condiciones del problema?\n",
        "- ¿Es posible encontrar todos los valores enteros posibles entre dicho mínimo y máximo ?\n",
        "\n",
        "(*) La respuesta es obligatoria\n",
        "\n",
        "\n",
        "\n",
        "\n",
        "\n",
        "                                        "
      ]
    },
    {
      "cell_type": "markdown",
      "metadata": {
        "id": "hmTqBhHtB3y1",
        "colab_type": "text"
      },
      "source": [
        "## ¿Qué valor máximo y mínimo se pueden obtener según las condiciones del problema?\n"
      ]
    },
    {
      "cell_type": "markdown",
      "metadata": {
        "id": "2A6Rq7kTCCx0",
        "colab_type": "text"
      },
      "source": [
        "> Se puede encontrar numeros en el rango de 77 a -69 "
      ]
    },
    {
      "cell_type": "markdown",
      "metadata": {
        "id": "R7fBBycsCAKn",
        "colab_type": "text"
      },
      "source": [
        "## ¿Es posible encontrar todos los valores enteros posibles entre dicho mínimo y máximo ?"
      ]
    },
    {
      "cell_type": "markdown",
      "metadata": {
        "id": "-nyatXJks93l",
        "colab_type": "text"
      },
      "source": [
        "> si es posible encontrar todos los enteros en ese rango.\n",
        "\n",
        "> Lo que no calcula son los todos los numeros que no sean enteros."
      ]
    },
    {
      "cell_type": "markdown",
      "metadata": {
        "id": "3_-exlrTgLd-",
        "colab_type": "text"
      },
      "source": [
        "## (*)¿Cuantas posibilidades hay sin tener en cuenta las restricciones?<br>\n",
        "\n",
        "\n",
        "\n",
        "\n",
        "\n"
      ]
    },
    {
      "cell_type": "markdown",
      "metadata": {
        "id": "AItUSTdjeR57",
        "colab_type": "text"
      },
      "source": [
        "> La unica restriccion que veo es que los numeros no se pueden repetir.\n",
        "> Si se pudiera repetir nos encontrariamos con que habria que hacer ${9^{5}}$ combinaciones solo contando con el rango de numeros."
      ]
    },
    {
      "cell_type": "markdown",
      "metadata": {
        "id": "SfhGn3TDePZK",
        "colab_type": "text"
      },
      "source": [
        "## ¿Cuantas posibilidades hay teniendo en cuenta todas las restricciones.\n"
      ]
    },
    {
      "cell_type": "markdown",
      "metadata": {
        "id": "Jt3SHKV5j8GK",
        "colab_type": "text"
      },
      "source": [
        "\n",
        "\n",
        "> Nos encontramos con la restriccion de que no se pueden repetir los numeros con lo cual\n",
        "> nos encontramos con ${9x8x7x6x5= 15120}$ si el añadimos ${x24 }$ posibles combinaciones de las operaciones daria un total de 362880 posibles combinaciones para poder encontrar el resultado por fuerza bruta. O lo que es lo mismo n!/(n-r)! \n",
        "- donde n es el numero total de elementos y r el numero de elementos elegidos entre los n disponibles\n"
      ]
    },
    {
      "cell_type": "markdown",
      "metadata": {
        "id": "dzynfVJahHoY",
        "colab_type": "text"
      },
      "source": [
        "## Modelo para el espacio de soluciones<br>\n",
        "## (*) ¿Cual es la estructura de datos que mejor se adapta al problema? Argumentalo.(Es posible que hayas elegido una al principio y veas la necesidad de cambiar, argumentalo)\n"
      ]
    },
    {
      "cell_type": "markdown",
      "metadata": {
        "id": "6T9bygEPRTBE",
        "colab_type": "text"
      },
      "source": [
        "> Inicialmente tenia pensado generar las permutaciones de los signos de operaciones.\n",
        "\n",
        "> Creo que generando la matriz con todas las permutaciones de las operaciones para luego ir combinandolas con los numeros, es mas eficiciente que hacerlo durante la ejecución.\n",
        "\n",
        "> Para generar la lista de numeros lo hago con un rango del 1 al 10 que me da numeros del 1 al 9"
      ]
    },
    {
      "cell_type": "markdown",
      "metadata": {
        "id": "7Z9U2W7bi-XS",
        "colab_type": "text"
      },
      "source": [
        "## Según el modelo para el espacio de soluciones<br>\n",
        "## (*)¿Cual es la función objetivo?\n",
        "\n",
        "## (*)¿Es un problema de maximización o minimización?"
      ]
    },
    {
      "cell_type": "markdown",
      "metadata": {
        "id": "kJdmBT9iSRIa",
        "colab_type": "text"
      },
      "source": [
        "> En este caso no es un problema de maximizacion o minimización y no existe una funcion objetivo  ya que consiste encontrar una expresion matematica que de solucion al problema."
      ]
    },
    {
      "cell_type": "markdown",
      "metadata": {
        "id": "rlnTYgY1j6I2",
        "colab_type": "text"
      },
      "source": [
        "## Diseña un algoritmo para resolver el problema por fuerza bruta"
      ]
    },
    {
      "cell_type": "markdown",
      "metadata": {
        "id": "ZvprHWYFcmLf",
        "colab_type": "text"
      },
      "source": [
        "Voy a modelizar el problema usando una lista donde estaran las operaciones basicas en una posicion fija y las otras 5 posiciones serán para permutar los numeros del 1 al 9\n",
        "\n",
        "---\n",
        "\n"
      ]
    },
    {
      "cell_type": "code",
      "metadata": {
        "id": "Zl5nEyX2WgGb",
        "colab_type": "code",
        "colab": {}
      },
      "source": [
        "# datos del problema\n",
        "lista_numeros=range(1,10)                           #numeros del 1 al 9\n",
        "# permutacion de todas las combinaciones de las operaciones\n",
        "lista_operaciones=[ ['+', '-', '*', '/'],            \n",
        "                    ['+', '-', '/', '*'],\n",
        "                    ['+', '*', '-', '/'],\n",
        "                    ['+', '*', '/', '-'],\n",
        "                    ['+', '/', '-', '*'],\n",
        "                    ['+', '/', '*', '-'],\n",
        "                    ['-', '+', '*', '/'],\n",
        "                    ['-', '+', '/', '*'],\n",
        "                    ['-', '*', '+', '/'],\n",
        "                    ['-', '*', '/', '+'],\n",
        "                    ['-', '/', '+', '*'],\n",
        "                    ['-', '/', '*', '+'],\n",
        "                    ['*', '+', '-', '/'],\n",
        "                    ['*', '+', '/', '-'],\n",
        "                    ['*', '-', '+', '/'],\n",
        "                    ['*', '-', '/', '+'],\n",
        "                    ['*', '/', '+', '-'],\n",
        "                    ['*', '/', '-', '+'],\n",
        "                    ['/', '+', '-', '*'],\n",
        "                    ['/', '+', '*', '-'],\n",
        "                    ['/', '-', '+', '*'],\n",
        "                    ['/', '-', '*', '+'],\n",
        "                    ['/', '*', '+', '-'],\n",
        "                    ['/', '*', '-', '+']]"
      ],
      "execution_count": 0,
      "outputs": []
    },
    {
      "cell_type": "markdown",
      "metadata": {
        "id": "WjnDTZo1dNmK",
        "colab_type": "text"
      },
      "source": [
        "Funcion para incluir los numeros en la lista de operaciones"
      ]
    },
    {
      "cell_type": "code",
      "metadata": {
        "id": "a_nECy8TzRga",
        "colab_type": "code",
        "colab": {}
      },
      "source": [
        "# como entrada 2 listas numeros y operaciones completa el resultando con ambos\n",
        "# numeros y operaciones en una sola lista\n",
        "\n",
        "def convertir(l):\n",
        "  devolver=[]\n",
        "  for i in l:\n",
        "    j=str(i)\n",
        "    devolver.append(j)\n",
        "  return devolver\n",
        "\n",
        "def generar_expresion(num,ope):\n",
        "  \n",
        "  lista_convertida=convertir(num)\n",
        "  resultado=[]\n",
        "  resultado.append(lista_convertida[0])\n",
        "  resultado.append(ope[0])\n",
        "  resultado.append(lista_convertida[1])\n",
        "  resultado.append(ope[1])\n",
        "  resultado.append(lista_convertida[2])\n",
        "  resultado.append(ope[2])\n",
        "  resultado.append(lista_convertida[3])\n",
        "  resultado.append(ope[3])\n",
        "  resultado.append(lista_convertida[4])\n",
        "  \n",
        "  return resultado"
      ],
      "execution_count": 0,
      "outputs": []
    },
    {
      "cell_type": "markdown",
      "metadata": {
        "id": "6lL25kKFdV5m",
        "colab_type": "text"
      },
      "source": [
        "Funcion para generar y evaluar la expresion con la \"eval\""
      ]
    },
    {
      "cell_type": "code",
      "metadata": {
        "id": "pdWGQk3C35tq",
        "colab_type": "code",
        "colab": {}
      },
      "source": [
        "# dada una lista de entrada la convierte en una expresion que pueda ser\n",
        "# evaluada por la operacion eval de python\n",
        "# ejemplo expresion = \"4-2+6/3*1\"\n",
        "\n",
        "def evalua_lista(lista):\n",
        "  expresion=''.join(lista)\n",
        "  solucion= eval(''.join(expresion))\n",
        "  return expresion,solucion"
      ],
      "execution_count": 0,
      "outputs": []
    },
    {
      "cell_type": "code",
      "metadata": {
        "id": "R9Ygw45B1XZM",
        "colab_type": "code",
        "outputId": "75e90b77-fc4d-4cd1-8879-4b846e6fe014",
        "colab": {
          "base_uri": "https://localhost:8080/",
          "height": 69
        }
      },
      "source": [
        "# solucion fuerza bruta\n",
        "import itertools as it\n",
        "import time\n",
        "\n",
        "#-----------tiempo inicio\n",
        "inicio=time.time()\n",
        "#-----------------------\n",
        "\n",
        "Num_entrada=-1                            #numero a calcular\n",
        "perm_numeros=it.permutations(lista_numeros,5)   #todas las combinaciones sin repeticion\n",
        "\n",
        "candidato=0\n",
        "si_solucion=False\n",
        "num_busquedas=0\n",
        "\n",
        "for i in perm_numeros:\n",
        "  for j in lista_operaciones: \n",
        "\n",
        "    candidato = generar_expresion(i,j)\n",
        "    expresion_cand,calculo_cand=evalua_lista(candidato)\n",
        "    # print('expresion candidato',expresion_cand,'=',calculo_cand)\n",
        "    num_busquedas+=1\n",
        "    if calculo_cand == Num_entrada:\n",
        "      print('para',Num_entrada,'la expresion resultado es ',expresion_cand)\n",
        "      print('iteraciones hasta la solucion',num_busquedas)\n",
        "      si_solucion=True\n",
        "      break\n",
        "  if si_solucion==True:\n",
        "      break\n",
        "\n",
        "if si_solucion==False:\n",
        "    print('No hay solucion para el numero', Num_entrada, )\n",
        "    print('iteraciones hasta la solucion',num_busquedas)\n",
        "\n",
        "# -----Muestra el tiempo de ejecucion-----------------------\n",
        "final=time.time()\n",
        "Ttotal=final-inicio\n",
        "print('INICIO',inicio,'FINAL',final,'tiempo ejecucion',Ttotal)"
      ],
      "execution_count": 15,
      "outputs": [
        {
          "output_type": "stream",
          "text": [
            "para -1 la expresion resultado es  1+2-3/6*8\n",
            "iteraciones hasta la solucion 314\n",
            "INICIO 1580143764.0612173 FINAL 1580143764.0652752 tiempo ejecucion 0.004057884216308594\n"
          ],
          "name": "stdout"
        }
      ]
    },
    {
      "cell_type": "markdown",
      "metadata": {
        "id": "tgrnsC2nkFa8",
        "colab_type": "text"
      },
      "source": [
        "## Calcula la complejidad del algoritmo por fuerza bruta"
      ]
    },
    {
      "cell_type": "markdown",
      "metadata": {
        "id": "gRx0WAsnq4FV",
        "colab_type": "text"
      },
      "source": [
        "> La complejidad es de O(n!). Ya que la complejidad real esta en n!/(n-k)! \n",
        "- Donde:\n",
        " - n es el rango de numeros que podemos usar en el problema\n",
        " - k corresponde a los numeros seleccionados para hacer el calculo en este caso corresponden a 5\n",
        "\n",
        "> Aumentar el rango n aumentará el coste de forma factorial\n",
        "\n"
      ]
    },
    {
      "cell_type": "markdown",
      "metadata": {
        "id": "txbrmLmskReM",
        "colab_type": "text"
      },
      "source": [
        "## (*)Diseña un algoritmo que mejore la complejidad del algortimo por fuerza bruta. Argumenta porque crees que mejora el algoritmo por fuerza bruta"
      ]
    },
    {
      "cell_type": "markdown",
      "metadata": {
        "id": "7aZclk-unJf0",
        "colab_type": "text"
      },
      "source": [
        "> Para hacer el algoritmo mas eficiente he pensado en dividir el rango a permutar segun el valor de entrada que se quiere calcular. "
      ]
    },
    {
      "cell_type": "code",
      "metadata": {
        "id": "ZqOZa-uH3NTx",
        "colab_type": "code",
        "outputId": "4cd46d78-deb4-4461-e09f-9a25135d4e60",
        "colab": {
          "base_uri": "https://localhost:8080/",
          "height": 69
        }
      },
      "source": [
        "# SOLUCION OPTIMIZADA\n",
        "\n",
        "import itertools as it\n",
        "import time \n",
        "\n",
        "#-----------tiempo inicio\n",
        "inicio=time.time()\n",
        "#-----------------------\n",
        "\n",
        "Num_entrada=60               #numero a calcular\n",
        "\n",
        "# si el valor a calcular esta entre 0 y 40 en valores absolutos\n",
        "if abs(Num_entrada) >= 0 and abs(Num_entrada) <= 40:\n",
        "    perm_numeros=it.permutations(lista_numeros[:7],5)\n",
        "\n",
        "# para valores a calcular mayor que 40\n",
        "if abs(Num_entrada) > 40:\n",
        "    perm_numeros=it.permutations(lista_numeros[:8],5)\n",
        "\n",
        "si_solucion=False\n",
        "candidato=0\n",
        "num_busquedas=0\n",
        "\n",
        "for i in perm_numeros:\n",
        "  for j in lista_operaciones: \n",
        "\n",
        "    candidato = generar_expresion(i,j)\n",
        "    expresion_cand,calculo_cand = evalua_lista(candidato)\n",
        "    num_busquedas+=1\n",
        "\n",
        "    if calculo_cand == Num_entrada:\n",
        "        print('para',Num_entrada,'la expresion resultado es ',expresion_cand)\n",
        "        print('iteraciones hasta la solucion',num_busquedas)\n",
        "        si_solucion=True\n",
        "        break\n",
        "\n",
        "  if si_solucion==True:\n",
        "      break\n",
        "\n",
        "if si_solucion==False:\n",
        "    print('No hay solucion para el numero', Num_entrada, )\n",
        "    print('iteraciones hasta la solucion',num_busquedas)\n",
        "\n",
        "# -----Muestra el tiempo de ejecucion-----------------------\n",
        "final=time.time()\n",
        "Ttotal=final-inicio\n",
        "print('INICIO',inicio,'FINAL',final,'tiempo ejecucion',Ttotal)\n"
      ],
      "execution_count": 0,
      "outputs": [
        {
          "output_type": "stream",
          "text": [
            "para 60 la expresion resultado es  6/1-2+7*8\n",
            "iteraciones hasta la solucion 101181\n",
            "INICIO 1579988482.3571582 FINAL 1579988483.3378735 tiempo ejecucion 0.980715274810791\n"
          ],
          "name": "stdout"
        }
      ]
    },
    {
      "cell_type": "markdown",
      "metadata": {
        "id": "eGDB4K6uk1iN",
        "colab_type": "text"
      },
      "source": [
        "## (*)Calcula la complejidad del algoritmo "
      ]
    },
    {
      "cell_type": "code",
      "metadata": {
        "id": "nREzhkStlCq8",
        "colab_type": "code",
        "colab": {}
      },
      "source": [
        "Mejora la comoplejidad quedando en O[(n+1)/2)]! "
      ],
      "execution_count": 0,
      "outputs": []
    },
    {
      "cell_type": "markdown",
      "metadata": {
        "id": "3M6QjTsSkmYe",
        "colab_type": "text"
      },
      "source": [
        "## Según el problema (y tenga sentido), diseña un juego de datos de entrada aleatorios\n",
        "## Aplica el algoritmo al juego de datos generado"
      ]
    },
    {
      "cell_type": "markdown",
      "metadata": {
        "id": "F7IZtZV_IUQ8",
        "colab_type": "text"
      },
      "source": [
        "> No tiene sentido aqui plantear un juego de datos aleatorio ya que se trata de encontrar una solucion "
      ]
    },
    {
      "cell_type": "markdown",
      "metadata": {
        "colab_type": "text",
        "id": "eTFWUJQrtGcv"
      },
      "source": [
        "## Enumera las referencias que has utilizado(si ha sido necesario) para llevar a cabo el trabajo"
      ]
    },
    {
      "cell_type": "markdown",
      "metadata": {
        "id": "kAkDPUyRtYyH",
        "colab_type": "text"
      },
      "source": [
        "## Describe brevemente las lineas de como crees que es posible avanzar en el estudio del problema. Ten en cuenta incluso posibles variaciones del problema y/o variaciones al alza del tamaño"
      ]
    }
  ]
}